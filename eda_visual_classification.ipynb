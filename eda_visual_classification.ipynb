{
 "cells": [
  {
   "cell_type": "markdown",
   "id": "aa505aa7",
   "metadata": {},
   "source": [
    "\n",
    "# AI and Computer Vision - Visual Classification Project\n",
    "\n",
    "This notebook performs Exploratory Data Analysis (EDA), preprocessing, and Random Forest model training on a dataset related to visual classification.\n"
   ]
  },
  {
   "cell_type": "code",
   "execution_count": null,
   "id": "93dfd3ad",
   "metadata": {},
   "outputs": [],
   "source": [
    "\n",
    "import pandas as pd\n",
    "from sklearn.model_selection import train_test_split\n",
    "from sklearn.ensemble import RandomForestClassifier\n",
    "from sklearn.preprocessing import LabelEncoder\n",
    "from sklearn.metrics import confusion_matrix, classification_report\n",
    "import seaborn as sns\n",
    "import matplotlib.pyplot as plt\n",
    "\n",
    "# Load dataset\n",
    "df = pd.read_csv(\"ai_computer_vision_dataset.csv\")\n",
    "df = df[['Confidence_Score', 'Blur_Level', 'Brightness_Level', 'Contrast_Level', 'Noise_Level', 'Label']].dropna()\n"
   ]
  },
  {
   "cell_type": "code",
   "execution_count": null,
   "id": "8d6f0728",
   "metadata": {},
   "outputs": [],
   "source": [
    "\n",
    "# Encode label\n",
    "label_encoder = LabelEncoder()\n",
    "df['Label_encoded'] = label_encoder.fit_transform(df['Label'])\n",
    "\n",
    "# Features and target\n",
    "X = df[['Confidence_Score', 'Blur_Level', 'Brightness_Level', 'Contrast_Level', 'Noise_Level']]\n",
    "y = df['Label_encoded']\n",
    "\n",
    "# Split data\n",
    "X_train, X_test, y_train, y_test = train_test_split(X, y, test_size=0.2, random_state=42, stratify=y)\n"
   ]
  },
  {
   "cell_type": "code",
   "execution_count": null,
   "id": "bd5151bb",
   "metadata": {},
   "outputs": [],
   "source": [
    "\n",
    "# Train Random Forest\n",
    "model = RandomForestClassifier(random_state=42)\n",
    "model.fit(X_train, y_train)\n",
    "y_pred = model.predict(X_test)\n",
    "\n",
    "# Evaluation\n",
    "print(\"Classification Report:\")\n",
    "print(classification_report(y_test, y_pred))\n"
   ]
  },
  {
   "cell_type": "code",
   "execution_count": null,
   "id": "3c47e2bd",
   "metadata": {},
   "outputs": [],
   "source": [
    "\n",
    "# Plot Confusion Matrix\n",
    "conf_mat = confusion_matrix(y_test, y_pred)\n",
    "sns.heatmap(conf_mat, annot=True, fmt='d', cmap='Blues', xticklabels=label_encoder.classes_, yticklabels=label_encoder.classes_)\n",
    "plt.title(\"Confusion Matrix\")\n",
    "plt.xlabel(\"Predicted\")\n",
    "plt.ylabel(\"Actual\")\n",
    "plt.show()\n"
   ]
  },
  {
   "cell_type": "code",
   "execution_count": null,
   "id": "ea3d2cf3",
   "metadata": {},
   "outputs": [],
   "source": [
    "\n",
    "# Feature importance\n",
    "importances = pd.Series(model.feature_importances_, index=X.columns).sort_values(ascending=False)\n",
    "sns.barplot(x=importances.values, y=importances.index)\n",
    "plt.title(\"Feature Importance - Random Forest\")\n",
    "plt.xlabel(\"Importance\")\n",
    "plt.ylabel(\"Feature\")\n",
    "plt.show()\n"
   ]
  }
 ],
 "metadata": {},
 "nbformat": 4,
 "nbformat_minor": 5
}
